{
 "cells": [
  {
   "cell_type": "code",
   "execution_count": 1,
   "metadata": {},
   "outputs": [
    {
     "name": "stdout",
     "output_type": "stream",
     "text": [
      "[74, 146, 17]\n",
      "[74, 146, 8]\n"
     ]
    }
   ],
   "source": [
    "from matplotlib import pyplot as plt\n",
    "from scipy.io import loadmat\n",
    "from fnc.extractFeature import extractFeature\n",
    "from fnc.segment import segment\n",
    "import cv2\n",
    "import matplotlib.pyplot as plt\n",
    "\n",
    "#plt.plot([1, 2, 3, 4])\n",
    "#plt.ylabel('some numbers')\n",
    "#plt.show()\n",
    "#eye1_1=loadmat(\"/Users/sadeghin/research/SoCoDeN/Iris-Recognition/python/templates/CASIA1/001_1_1.jpg.mat\")\n",
    "#print(eye1_1)\n",
    "#plt.plot(eye1_1[\"mask\"])\n",
    "\n",
    "eyelashes_thres = 20\n",
    "im_filename = \"/Users/sadeghin/research/SoCoDeN/Iris-Recognition/CASIA1/4/004_1_1.jpg\"\n",
    "im = cv2.imread(im_filename, 0)\n",
    "#print(im)\n",
    "#imgplot = plt.imshow(im)\n",
    "\n",
    "ciriris, cirpupil, imwithnoise = segment(im, eyelashes_thres, False)\n",
    "print(ciriris)\n",
    "print(cirpupil) \n",
    "\n",
    "#cv2.imshow('sample iris',im)\n",
    "#cv2.waitKey(0)\n",
    "#cv2.destroyAllWindows() \n",
    "\n",
    "#cv2.circle(im, (ciriris[0],ciriris[1]), ciriris[2], (255, 0, 0), thickness=2, lineType=8)\n",
    "#cv2.circle(im, (cirpupil[0],cirpupil[1]), cirpupil[2], (255, 0, 0), thickness=2, lineType=8)\n",
    "\n",
    "cv2.imshow('sample iris with iris outline',im)\n",
    "#cv2.waitKey(5000)\n",
    "#cv2.destroyAllWindows()\n",
    "\n"
   ]
  }
 ],
 "metadata": {
  "kernelspec": {
   "display_name": "iris_env2",
   "language": "python",
   "name": "python3"
  },
  "language_info": {
   "codemirror_mode": {
    "name": "ipython",
    "version": 3
   },
   "file_extension": ".py",
   "mimetype": "text/x-python",
   "name": "python",
   "nbconvert_exporter": "python",
   "pygments_lexer": "ipython3",
   "version": "3.10.9"
  },
  "orig_nbformat": 4,
  "vscode": {
   "interpreter": {
    "hash": "85a0a929e55a5b685e93f1365a4f95accc10c78fac4a4a8e0e9b4a9759a8ec11"
   }
  }
 },
 "nbformat": 4,
 "nbformat_minor": 2
}
